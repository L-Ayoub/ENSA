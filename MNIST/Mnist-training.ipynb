{
 "cells": [
  {
   "cell_type": "code",
   "execution_count": 1,
   "id": "1bf4ce1c",
   "metadata": {},
   "outputs": [],
   "source": [
    "import tensorflow as tf\n",
    "import numpy as np\n",
    "from tensorflow.keras.models import Sequential\n",
    "from tensorflow.keras.layers import Dense, Dropout, Activation, Flatten,Conv2D, MaxPooling2D\n",
    "mnist = tf.keras.datasets.mnist\n",
    "(x_train,y_train),(x_test,y_test) = mnist.load_data()\n",
    "img_size=28\n",
    "x_trainr=np.array(x_train).reshape(-1,img_size,img_size,1)\n",
    "x_testr=np.array(x_test).reshape(-1,img_size,img_size,1)"
   ]
  },
  {
   "cell_type": "code",
   "execution_count": 9,
   "id": "382dfa71",
   "metadata": {},
   "outputs": [],
   "source": [
    "x_train = tf.keras.utils.normalize(x_train,axis = 1)\n",
    "x_test = tf.keras.utils.normalize(x_test, axis=1)\n",
    "img_size=28\n",
    "x_trainr=np.array(x_train).reshape(-1,img_size,img_size,1)\n",
    "x_testr=np.array(x_test).reshape(-1,img_size,img_size,1)"
   ]
  },
  {
   "cell_type": "code",
   "execution_count": 10,
   "id": "11b76a37",
   "metadata": {},
   "outputs": [],
   "source": [
    "#Création d'un neural network\n",
    "model = Sequential()\n",
    "#1ere Convolution layer (60000,28,28,1) \n",
    "model.add(Conv2D(64,(3,3), input_shape = x_trainr.shape[1:]))#Input layer size\n",
    "model.add(Activation(\"relu\"))\n",
    "model.add(MaxPooling2D(pool_size=(2,2)))#MaxPooling\n",
    "#2eme Convolution layer  \n",
    "model.add(Conv2D(64,(3,3)))\n",
    "model.add(Activation(\"relu\"))\n",
    "model.add(MaxPooling2D(pool_size=(2,2)))\n",
    "#3eme Convolution layer  \n",
    "model.add(Conv2D(64,(3,3)))\n",
    "model.add(Activation(\"relu\"))\n",
    "model.add(MaxPooling2D(pool_size=(2,2)))\n",
    "#Connected layer complet 1 \n",
    "model.add(Flatten()) #\n",
    "model.add(Dense(64))\n",
    "model.add(Activation(\"relu\"))\n",
    "#Connected Layer complet 2\n",
    "model.add(Dense(32))\n",
    "model.add(Activation(\"relu\"))\n",
    "model.add(Dense(10))#must = 10\n",
    "model.add(Activation('softmax')) "
   ]
  },
  {
   "cell_type": "code",
   "execution_count": 11,
   "id": "dc25ec8b",
   "metadata": {},
   "outputs": [],
   "source": [
    "model.compile(loss=\"sparse_categorical_crossentropy\", optimizer=\"adam\", metrics=['accuracy'])"
   ]
  },
  {
   "cell_type": "code",
   "execution_count": 12,
   "id": "e0be4b29",
   "metadata": {},
   "outputs": [
    {
     "name": "stdout",
     "output_type": "stream",
     "text": [
      "Epoch 1/5\n",
      "1313/1313 [==============================] - 35s 26ms/step - loss: 0.3233 - accuracy: 0.8965 - val_loss: 0.1116 - val_accuracy: 0.9643\n",
      "Epoch 2/5\n",
      "1313/1313 [==============================] - 34s 26ms/step - loss: 0.0985 - accuracy: 0.9697 - val_loss: 0.1175 - val_accuracy: 0.9658\n",
      "Epoch 3/5\n",
      "1313/1313 [==============================] - 35s 27ms/step - loss: 0.0710 - accuracy: 0.9778 - val_loss: 0.0674 - val_accuracy: 0.9799\n",
      "Epoch 4/5\n",
      "1313/1313 [==============================] - 39s 29ms/step - loss: 0.0545 - accuracy: 0.9824 - val_loss: 0.0795 - val_accuracy: 0.9767\n",
      "Epoch 5/5\n",
      "1313/1313 [==============================] - 35s 26ms/step - loss: 0.0462 - accuracy: 0.9853 - val_loss: 0.0606 - val_accuracy: 0.9816\n"
     ]
    },
    {
     "data": {
      "text/plain": [
       "<keras.callbacks.History at 0x1fa2b9dc220>"
      ]
     },
     "execution_count": 12,
     "metadata": {},
     "output_type": "execute_result"
    }
   ],
   "source": [
    "model.fit(x_train,y_train,epochs=5, validation_split = 0.3)"
   ]
  },
  {
   "cell_type": "code",
   "execution_count": 13,
   "id": "1eaeb6e6",
   "metadata": {},
   "outputs": [
    {
     "name": "stdout",
     "output_type": "stream",
     "text": [
      "313/313 [==============================] - 2s 6ms/step - loss: 0.0551 - accuracy: 0.9847\n"
     ]
    }
   ],
   "source": [
    "test_loss, test_acc, = model.evaluate(x_testr,y_test)\n"
   ]
  },
  {
   "cell_type": "code",
   "execution_count": 14,
   "id": "3a35e2ce",
   "metadata": {},
   "outputs": [],
   "source": [
    "model.save_weights('MNIST.h5')"
   ]
  }
 ],
 "metadata": {
  "kernelspec": {
   "display_name": "Python 3 (ipykernel)",
   "language": "python",
   "name": "python3"
  },
  "language_info": {
   "codemirror_mode": {
    "name": "ipython",
    "version": 3
   },
   "file_extension": ".py",
   "mimetype": "text/x-python",
   "name": "python",
   "nbconvert_exporter": "python",
   "pygments_lexer": "ipython3",
   "version": "3.9.7"
  }
 },
 "nbformat": 4,
 "nbformat_minor": 5
}
